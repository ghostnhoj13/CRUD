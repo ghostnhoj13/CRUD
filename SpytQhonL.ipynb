{
 "cells": [
  {
   "cell_type": "code",
   "execution_count": 1,
   "id": "bd18c802-e633-4ffa-a4c5-831330bbbd78",
   "metadata": {},
   "outputs": [],
   "source": [
    "import mysql.connector\n",
    "from mysql.connector import Error"
   ]
  },
  {
   "cell_type": "code",
   "execution_count": 3,
   "id": "4315ba37-0433-410a-a45f-c2af772d8bb3",
   "metadata": {},
   "outputs": [
    {
     "name": "stdout",
     "output_type": "stream",
     "text": [
      "Inserted new employee: (6, 'Ravi', 450000)\n",
      "All employees:\n",
      "(1, 'John', 999999)\n",
      "(2, 'Sree', 400000)\n",
      "(3, 'Ahmed', 350000)\n",
      "(4, 'AJ', 500000)\n",
      "(5, 'Yadhu', 800000)\n",
      "(6, 'Ravi', 450000)\n",
      "Updated salary for ID 2\n",
      "Deleted employee with ID 4\n",
      "MySQL connection closed\n"
     ]
    }
   ],
   "source": [
    "import mysql.connector\n",
    "from mysql.connector import Error\n",
    "\n",
    "try:\n",
    "    connection = mysql.connector.connect(\n",
    "        host='127.0.0.1',\n",
    "        user='root',\n",
    "        password='root',\n",
    "        database='test'\n",
    "    )\n",
    "\n",
    "    if connection.is_connected():\n",
    "        cursor = connection.cursor()\n",
    "\n",
    "        # CREATE: Insert a new employee\n",
    "        insert_query = \"INSERT INTO user (ID, Name, Salary) VALUES (%s, %s, %s)\"\n",
    "        new_employee = (6, 'Ravi', 450000)\n",
    "        cursor.execute(insert_query, new_employee)\n",
    "        connection.commit()\n",
    "        print(\"Inserted new employee:\", new_employee)\n",
    "\n",
    "        # READ: Fetch all records\n",
    "        cursor.execute(\"SELECT * FROM user\")\n",
    "        rows = cursor.fetchall()\n",
    "        print(\"All employees:\")\n",
    "        for row in rows:\n",
    "            print(row)\n",
    "\n",
    "        # UPDATE: Change Salary of employee with ID=2\n",
    "        update_query = \"UPDATE user SET Salary = %s WHERE ID = %s\"\n",
    "        cursor.execute(update_query, (420000, 2))\n",
    "        connection.commit()\n",
    "        print(\"Updated salary for ID 2\")\n",
    "\n",
    "        # DELETE: Remove employee with ID=4\n",
    "        delete_query = \"DELETE FROM user WHERE ID = %s\"\n",
    "        cursor.execute(delete_query, (4,))\n",
    "        connection.commit()\n",
    "        print(\"Deleted employee with ID 4\")\n",
    "\n",
    "except Error as e:\n",
    "    print(\"Error:\", e)\n",
    "\n",
    "finally:\n",
    "    if connection.is_connected():\n",
    "        cursor.close()\n",
    "        connection.close()\n",
    "        print(\"MySQL connection closed\")\n"
   ]
  },
  {
   "cell_type": "code",
   "execution_count": null,
   "id": "acbc750a-eda1-4637-b39a-7354ca5330d8",
   "metadata": {},
   "outputs": [],
   "source": []
  }
 ],
 "metadata": {
  "kernelspec": {
   "display_name": "Python 3 (ipykernel)",
   "language": "python",
   "name": "python3"
  },
  "language_info": {
   "codemirror_mode": {
    "name": "ipython",
    "version": 3
   },
   "file_extension": ".py",
   "mimetype": "text/x-python",
   "name": "python",
   "nbconvert_exporter": "python",
   "pygments_lexer": "ipython3",
   "version": "3.11.13"
  }
 },
 "nbformat": 4,
 "nbformat_minor": 5
}
